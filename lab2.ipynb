{
 "cells": [
  {
   "cell_type": "code",
   "execution_count": 190,
   "id": "8b5647a3-b6a9-4b3e-8799-9427f464aeec",
   "metadata": {},
   "outputs": [],
   "source": [
    "import numpy as np"
   ]
  },
  {
   "cell_type": "code",
   "execution_count": 191,
   "id": "aacd3179-7abf-45a6-945e-77b52472aa21",
   "metadata": {},
   "outputs": [
    {
     "data": {
      "text/plain": [
       "array([739, 642, 125, 984, 490, 712, 635, 643, 189, 370, 752, 397, 384,\n",
       "       756, 171, 153, 155, 695, 831, 618, 898, 115, 624, 592, 684, 799,\n",
       "       461,  96])"
      ]
     },
     "execution_count": 191,
     "metadata": {},
     "output_type": "execute_result"
    }
   ],
   "source": [
    "#1\n",
    "arr = np.array([739, 642, 125, 984, 490, 712, 635,\n",
    "643, 189, 370, 752, 397, 384, 756, 171, 153, 155, 695, 831, 618, 898, 115, 624, 592, 684, 799,\n",
    "461, 96])\n",
    "arr"
   ]
  },
  {
   "cell_type": "code",
   "execution_count": 192,
   "id": "cd4d090b-11bb-4c0e-b344-2c815ba044f0",
   "metadata": {},
   "outputs": [
    {
     "data": {
      "text/plain": [
       "array([[739, 642, 125, 984, 490, 712, 635],\n",
       "       [643, 189, 370, 752, 397, 384, 756],\n",
       "       [171, 153, 155, 695, 831, 618, 898],\n",
       "       [115, 624, 592, 684, 799, 461,  96]])"
      ]
     },
     "execution_count": 192,
     "metadata": {},
     "output_type": "execute_result"
    }
   ],
   "source": [
    "#2\n",
    "new_arr = arr.reshape(-1,7)\n",
    "new_arr"
   ]
  },
  {
   "cell_type": "code",
   "execution_count": 193,
   "id": "6b6851d0-46d1-4071-9f28-d4cec60136ab",
   "metadata": {},
   "outputs": [
    {
     "data": {
      "text/plain": [
       "array([1668, 1608, 1242, 3115, 2517, 2175, 2385])"
      ]
     },
     "execution_count": 193,
     "metadata": {},
     "output_type": "execute_result"
    }
   ],
   "source": [
    "#3\n",
    "new_arr.sum(axis =0)"
   ]
  },
  {
   "cell_type": "code",
   "execution_count": 194,
   "id": "9289ce0a-5cae-4950-b317-957a7aef945d",
   "metadata": {},
   "outputs": [
    {
     "data": {
      "text/plain": [
       "array([618.14285714, 498.71428571, 503.        , 481.57142857])"
      ]
     },
     "execution_count": 194,
     "metadata": {},
     "output_type": "execute_result"
    }
   ],
   "source": [
    "#4\n",
    "new_arr.mean(axis =1)"
   ]
  },
  {
   "cell_type": "code",
   "execution_count": 195,
   "id": "0a9fa87d-fd7b-41e4-8272-ea3dfe0682db",
   "metadata": {},
   "outputs": [
    {
     "name": "stdout",
     "output_type": "stream",
     "text": [
      "[1668 1608 1242 3115 2517 2175 2385]\n",
      "3\n"
     ]
    }
   ],
   "source": [
    "#5\n",
    "print(new_arr.sum(axis=0))\n",
    "print(new_arr.sum(axis=0).argmax())"
   ]
  },
  {
   "cell_type": "code",
   "execution_count": 196,
   "id": "9a45aed1-f9fe-44b5-83c4-4ee4f82b8314",
   "metadata": {},
   "outputs": [
    {
     "data": {
      "text/plain": [
       "(array([3, 4], dtype=int64),)"
      ]
     },
     "execution_count": 196,
     "metadata": {},
     "output_type": "execute_result"
    }
   ],
   "source": [
    "#6\n",
    "days_sum = new_arr.sum(axis=0)\n",
    "np.where(days_sum > 2500)"
   ]
  },
  {
   "cell_type": "code",
   "execution_count": 197,
   "id": "40d5fd6b-fb4a-48e7-acb1-cb1cf3e2e649",
   "metadata": {},
   "outputs": [
    {
     "data": {
      "text/plain": [
       "False"
      ]
     },
     "execution_count": 197,
     "metadata": {},
     "output_type": "execute_result"
    }
   ],
   "source": [
    "#7\n",
    "weekday_sales = days_sum[:-2].sum()\n",
    "weekdend_sales = days_sum[-2:].sum()\n",
    "weekdend_sales > weekday_sales"
   ]
  },
  {
   "cell_type": "code",
   "execution_count": 198,
   "id": "8ab4a78f-c034-49f0-b564-96fe996a209a",
   "metadata": {},
   "outputs": [
    {
     "data": {
      "text/plain": [
       "array([[739, 642, 125, 984, 490,   0,   0],\n",
       "       [643, 189, 370, 752, 397,   0,   0],\n",
       "       [171, 153, 155, 695, 831,   0,   0],\n",
       "       [115, 624, 592, 684, 799,   0,   0]])"
      ]
     },
     "execution_count": 198,
     "metadata": {},
     "output_type": "execute_result"
    }
   ],
   "source": [
    "#8\n",
    "new_arr[:,-2:] = 0\n",
    "new_arr"
   ]
  },
  {
   "cell_type": "code",
   "execution_count": 199,
   "id": "87da27a8-a85c-4875-93eb-d8d3c416d510",
   "metadata": {},
   "outputs": [
    {
     "data": {
      "text/plain": [
       "array([[642, 125, 984, 490,   0,   0],\n",
       "       [189, 370, 752, 397,   0,   0],\n",
       "       [153, 155, 695, 831,   0,   0],\n",
       "       [624, 592, 684, 799,   0,   0]])"
      ]
     },
     "execution_count": 199,
     "metadata": {},
     "output_type": "execute_result"
    }
   ],
   "source": [
    "#9\n",
    "new_arr = np.delete(new_arr,0,1)\n",
    "new_arr"
   ]
  },
  {
   "cell_type": "code",
   "execution_count": 200,
   "id": "0c4f5c40-4a5d-4344-8d84-ddfaa003c677",
   "metadata": {},
   "outputs": [
    {
     "data": {
      "text/plain": [
       "array([[205.],\n",
       "       [190.],\n",
       "       [ nan],\n",
       "       [117.]])"
      ]
     },
     "execution_count": 200,
     "metadata": {},
     "output_type": "execute_result"
    }
   ],
   "source": [
    "#10\n",
    "new_monday_data = np.array([205, 190, np.NaN, 117]).reshape(-1,1)\n",
    "new_monday_data"
   ]
  },
  {
   "cell_type": "code",
   "execution_count": 201,
   "id": "b05a335b-2605-4e5d-8c91-bdd7a9ca00b0",
   "metadata": {},
   "outputs": [
    {
     "data": {
      "text/plain": [
       "array([[205., 642., 125., 984., 490.,   0.,   0.],\n",
       "       [190., 189., 370., 752., 397.,   0.,   0.],\n",
       "       [ nan, 153., 155., 695., 831.,   0.,   0.],\n",
       "       [117., 624., 592., 684., 799.,   0.,   0.]])"
      ]
     },
     "execution_count": 201,
     "metadata": {},
     "output_type": "execute_result"
    }
   ],
   "source": [
    "arr_with_new_monday = np.hstack([new_monday_data,new_arr])\n",
    "arr_with_new_monday"
   ]
  },
  {
   "cell_type": "code",
   "execution_count": 202,
   "id": "1aeb3b57-a6dd-4442-9f33-3e33ba6a7aff",
   "metadata": {},
   "outputs": [
    {
     "data": {
      "text/plain": [
       "8994.0"
      ]
     },
     "execution_count": 202,
     "metadata": {},
     "output_type": "execute_result"
    }
   ],
   "source": [
    "#11\n",
    "new_month_sales = np.nansum(arr_with_new_monday)\n",
    "new_month_sales"
   ]
  },
  {
   "cell_type": "code",
   "execution_count": 203,
   "id": "b7cd2710-dc8f-4830-bad2-793f42460762",
   "metadata": {},
   "outputs": [
    {
     "data": {
      "text/plain": [
       "array([[205., 190.,  nan, 117.],\n",
       "       [642., 189., 153., 624.],\n",
       "       [125., 370., 155., 592.],\n",
       "       [984., 752., 695., 684.],\n",
       "       [490., 397., 831., 799.],\n",
       "       [  0.,   0.,   0.,   0.],\n",
       "       [  0.,   0.,   0.,   0.]])"
      ]
     },
     "execution_count": 203,
     "metadata": {},
     "output_type": "execute_result"
    }
   ],
   "source": [
    "#12\n",
    "transposed = arr_with_new_monday.T\n",
    "transposed"
   ]
  },
  {
   "cell_type": "code",
   "execution_count": null,
   "id": "6de9fcdd-22ac-4fd5-be88-56951d99ef7b",
   "metadata": {},
   "outputs": [],
   "source": []
  },
  {
   "cell_type": "code",
   "execution_count": null,
   "id": "7da8acd3-71d9-4961-893d-19a3f35836ae",
   "metadata": {},
   "outputs": [],
   "source": []
  },
  {
   "cell_type": "code",
   "execution_count": 204,
   "id": "8d05a858-8f48-454b-81ae-13ff6848c5a4",
   "metadata": {},
   "outputs": [],
   "source": [
    "##PART 2"
   ]
  },
  {
   "cell_type": "code",
   "execution_count": 205,
   "id": "859a06a3-60a5-4702-8549-ce5560d158b6",
   "metadata": {},
   "outputs": [
    {
     "data": {
      "text/plain": [
       "array([-2.0625    ,  0.44791667,  0.72916667,  0.01041667])"
      ]
     },
     "execution_count": 205,
     "metadata": {},
     "output_type": "execute_result"
    }
   ],
   "source": [
    "#1\n",
    "a = np.array([1,2,3,-2,1,-1,-2,-3,3,2,-1,2,2,-3,2,1]).reshape(4,4)\n",
    "b = np.array([1,-4,-6,-4])\n",
    "x_first = np.linalg.solve(a, b)\n",
    "x_first"
   ]
  },
  {
   "cell_type": "code",
   "execution_count": 206,
   "id": "42665505-8c64-4ffb-9d66-54503f855340",
   "metadata": {},
   "outputs": [
    {
     "data": {
      "text/plain": [
       "True"
      ]
     },
     "execution_count": 206,
     "metadata": {},
     "output_type": "execute_result"
    }
   ],
   "source": [
    "np.allclose(np.dot(a, x), b)"
   ]
  },
  {
   "cell_type": "code",
   "execution_count": 207,
   "id": "cae626f8-736c-4e2c-9b37-4cbb8497cee1",
   "metadata": {},
   "outputs": [
    {
     "data": {
      "text/plain": [
       "array([-2.0625    ,  0.44791667,  0.72916667,  0.01041667])"
      ]
     },
     "execution_count": 207,
     "metadata": {},
     "output_type": "execute_result"
    }
   ],
   "source": [
    "#2\n",
    "x_second = np.dot(np.linalg.inv(a),b)\n",
    "x_second"
   ]
  },
  {
   "cell_type": "code",
   "execution_count": 208,
   "id": "b6c44b69-f4d1-4923-a92b-f79641c5b05c",
   "metadata": {},
   "outputs": [
    {
     "data": {
      "text/plain": [
       "True"
      ]
     },
     "execution_count": 208,
     "metadata": {},
     "output_type": "execute_result"
    }
   ],
   "source": [
    "np.allclose(np.dot(a, x), b)"
   ]
  },
  {
   "cell_type": "code",
   "execution_count": 209,
   "id": "317f8823-3202-40a7-9ef6-2d4ab5476538",
   "metadata": {},
   "outputs": [
    {
     "data": {
      "text/plain": [
       "array([[ 1,  2,  3, -2],\n",
       "       [ 1, -1, -2, -3],\n",
       "       [ 3,  2, -1,  2],\n",
       "       [ 2, -3,  2,  1]])"
      ]
     },
     "execution_count": 209,
     "metadata": {},
     "output_type": "execute_result"
    }
   ],
   "source": [
    "a"
   ]
  },
  {
   "cell_type": "code",
   "execution_count": 210,
   "id": "048f9f0f-cd3c-4d07-848b-9bfdece8e5d0",
   "metadata": {},
   "outputs": [],
   "source": [
    "#3"
   ]
  },
  {
   "cell_type": "code",
   "execution_count": 211,
   "id": "3a48fd40-a048-441e-9e39-16e4ba3f7ee7",
   "metadata": {},
   "outputs": [
    {
     "data": {
      "text/plain": [
       "array([-2.0625    ,  0.44791667,  0.72916667,  0.01041667])"
      ]
     },
     "execution_count": 211,
     "metadata": {},
     "output_type": "execute_result"
    }
   ],
   "source": [
    "det_A = np.linalg.det(a)\n",
    "\n",
    "\n",
    "A1 = a.copy()\n",
    "A1[:, 0] = b\n",
    "det_A1 = np.linalg.det(A1)\n",
    "\n",
    "A2 = a.copy()\n",
    "A2[:, 1] = b\n",
    "det_A2 = np.linalg.det(A2)\n",
    "\n",
    "A3 = a.copy()\n",
    "A3[:, 2] = b\n",
    "det_A3 = np.linalg.det(A3)\n",
    "\n",
    "A4 = a.copy()\n",
    "A4[:, 3] = b\n",
    "det_A4 = np.linalg.det(A4)\n",
    "\n",
    "x1 = det_A1 / det_A\n",
    "x2 = det_A2 / det_A\n",
    "x3 = det_A3 / det_A\n",
    "x4 = det_A4 / det_A\n",
    "x_cramers = np.array([x1,x2,x3,x4])\n",
    "x_cramers"
   ]
  },
  {
   "cell_type": "code",
   "execution_count": 212,
   "id": "64d6f32b-d024-41ef-a39e-ceee5565e1ca",
   "metadata": {},
   "outputs": [
    {
     "name": "stdout",
     "output_type": "stream",
     "text": [
      "[-2.0625      0.44791667  0.72916667  0.01041667]\n",
      "[-2.0625      0.44791667  0.72916667  0.01041667]\n",
      "[-2.0625      0.44791667  0.72916667  0.01041667]\n"
     ]
    }
   ],
   "source": [
    "print(x_first)\n",
    "print(x_second)\n",
    "print(x_cramers)"
   ]
  },
  {
   "cell_type": "code",
   "execution_count": 213,
   "id": "6406945f-a7c8-4342-9336-c30da729c5d8",
   "metadata": {},
   "outputs": [
    {
     "data": {
      "text/plain": [
       "True"
      ]
     },
     "execution_count": 213,
     "metadata": {},
     "output_type": "execute_result"
    }
   ],
   "source": [
    "np.allclose(x_first,x_second) and np.allclose(x_first,x_cramers)"
   ]
  },
  {
   "cell_type": "code",
   "execution_count": 214,
   "id": "b1532a3b-7f02-4355-98dc-06cb96f429c8",
   "metadata": {},
   "outputs": [],
   "source": [
    "#Part 3\n"
   ]
  },
  {
   "cell_type": "code",
   "execution_count": 215,
   "id": "a09d7c8e-00a2-48ed-9103-22c50af3b1bb",
   "metadata": {},
   "outputs": [
    {
     "data": {
      "text/plain": [
       "array([[12, 12, -6],\n",
       "       [ 9,  0, 18],\n",
       "       [42, 90, 18]])"
      ]
     },
     "execution_count": 215,
     "metadata": {},
     "output_type": "execute_result"
    }
   ],
   "source": [
    "A_arr = np.array([4,5,-2,3,-1,0,4,2,7]).reshape(3,3)\n",
    "B_arr = np.array([2,1,-1,0,1,3,5,7,3]).reshape(3,3)\n",
    "res = 3*A_arr - (A_arr - 2*B_arr)*B_arr\n",
    "res"
   ]
  },
  {
   "cell_type": "code",
   "execution_count": null,
   "id": "1be05242-54ea-4ce7-ae21-472bb3cad517",
   "metadata": {},
   "outputs": [],
   "source": []
  },
  {
   "cell_type": "code",
   "execution_count": 216,
   "id": "0f7b9dd4-1ba8-4d62-960e-3e5e99cbf3d1",
   "metadata": {},
   "outputs": [
    {
     "data": {
      "text/plain": [
       "array([[1, 0],\n",
       "       [3, 0],\n",
       "       [5, 0]])"
      ]
     },
     "execution_count": 216,
     "metadata": {},
     "output_type": "execute_result"
    }
   ],
   "source": [
    "m=np.array([[1,2],[3,4], [5,6]])\n",
    "h=np.array([1,0])\n",
    "m*h"
   ]
  },
  {
   "cell_type": "code",
   "execution_count": null,
   "id": "a28c21c8-5abc-4862-acb6-55f4439f5af2",
   "metadata": {},
   "outputs": [],
   "source": []
  }
 ],
 "metadata": {
  "kernelspec": {
   "display_name": "Python 3 (ipykernel)",
   "language": "python",
   "name": "python3"
  },
  "language_info": {
   "codemirror_mode": {
    "name": "ipython",
    "version": 3
   },
   "file_extension": ".py",
   "mimetype": "text/x-python",
   "name": "python",
   "nbconvert_exporter": "python",
   "pygments_lexer": "ipython3",
   "version": "3.11.7"
  }
 },
 "nbformat": 4,
 "nbformat_minor": 5
}
