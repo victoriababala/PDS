{
 "cells": [
  {
   "cell_type": "code",
   "execution_count": 1,
   "id": "0f71e1fc-fc8a-4dc4-97e2-8cb56a604c61",
   "metadata": {},
   "outputs": [],
   "source": [
    "import pandas as pd"
   ]
  },
  {
   "cell_type": "code",
   "execution_count": 6,
   "id": "172ae6f8-db08-466a-9bf1-4ff0356291f2",
   "metadata": {},
   "outputs": [],
   "source": [
    "#1\n",
    "df = pd.read_csv('lab4.csv', sep=\",\", index_col=0)"
   ]
  },
  {
   "cell_type": "code",
   "execution_count": 13,
   "id": "2d9083ba-be10-4c63-9892-8eb2a3afe36f",
   "metadata": {},
   "outputs": [
    {
     "data": {
      "text/plain": [
       "(4553, 11)"
      ]
     },
     "execution_count": 13,
     "metadata": {},
     "output_type": "execute_result"
    }
   ],
   "source": [
    "#2\n",
    "df.shape"
   ]
  },
  {
   "cell_type": "code",
   "execution_count": 12,
   "id": "eb07e101-f519-4702-a552-87da0848c92b",
   "metadata": {},
   "outputs": [
    {
     "data": {
      "text/plain": [
       "Index(['Date Rptd', 'AREA NAME', 'Crm Cd Desc', 'Vict Age', 'Vict Sex',\n",
       "       'Vict Descent', 'Premis Desc', 'Weapon Desc', 'Status Desc', 'LOCATION',\n",
       "       'Cross Street'],\n",
       "      dtype='object')"
      ]
     },
     "execution_count": 12,
     "metadata": {},
     "output_type": "execute_result"
    }
   ],
   "source": [
    "#3\n",
    "df.columns"
   ]
  },
  {
   "cell_type": "code",
   "execution_count": 14,
   "id": "974d7a18-ceab-4626-b202-db545a6853b9",
   "metadata": {},
   "outputs": [
    {
     "name": "stdout",
     "output_type": "stream",
     "text": [
      "<class 'pandas.core.frame.DataFrame'>\n",
      "Index: 4553 entries, 0 to 4999\n",
      "Data columns (total 11 columns):\n",
      " #   Column        Non-Null Count  Dtype \n",
      "---  ------        --------------  ----- \n",
      " 0   Date Rptd     4553 non-null   object\n",
      " 1   AREA NAME     4553 non-null   object\n",
      " 2   Crm Cd Desc   4552 non-null   object\n",
      " 3   Vict Age      4553 non-null   int64 \n",
      " 4   Vict Sex      4300 non-null   object\n",
      " 5   Vict Descent  4300 non-null   object\n",
      " 6   Premis Desc   4553 non-null   object\n",
      " 7   Weapon Desc   1939 non-null   object\n",
      " 8   Status Desc   4553 non-null   object\n",
      " 9   LOCATION      4553 non-null   object\n",
      " 10  Cross Street  1430 non-null   object\n",
      "dtypes: int64(1), object(10)\n",
      "memory usage: 426.8+ KB\n"
     ]
    }
   ],
   "source": [
    "#4\n",
    "df.info()"
   ]
  },
  {
   "cell_type": "code",
   "execution_count": 15,
   "id": "624c2377-f991-4186-998a-09dd7ed7cec3",
   "metadata": {},
   "outputs": [
    {
     "data": {
      "text/plain": [
       "Date Rptd       4553\n",
       "AREA NAME       4553\n",
       "Crm Cd Desc     4552\n",
       "Vict Age        4553\n",
       "Vict Sex        4300\n",
       "Vict Descent    4300\n",
       "Premis Desc     4553\n",
       "Weapon Desc     1939\n",
       "Status Desc     4553\n",
       "LOCATION        4553\n",
       "Cross Street    1430\n",
       "dtype: int64"
      ]
     },
     "execution_count": 15,
     "metadata": {},
     "output_type": "execute_result"
    }
   ],
   "source": [
    "#5\n",
    "df.count()"
   ]
  },
  {
   "cell_type": "code",
   "execution_count": 16,
   "id": "55083870-3903-4544-adf9-a5519a8fd635",
   "metadata": {},
   "outputs": [
    {
     "name": "stdout",
     "output_type": "stream",
     "text": [
      "Date Rptd          0\n",
      "AREA NAME          0\n",
      "Crm Cd Desc        1\n",
      "Vict Age           0\n",
      "Vict Sex         253\n",
      "Vict Descent     253\n",
      "Premis Desc        0\n",
      "Weapon Desc     2614\n",
      "Status Desc        0\n",
      "LOCATION           0\n",
      "Cross Street    3123\n",
      "dtype: int64\n"
     ]
    }
   ],
   "source": [
    "#6\n",
    "print(df.isna().sum())"
   ]
  },
  {
   "cell_type": "code",
   "execution_count": 21,
   "id": "2ed04ba4-49b8-4b77-bd86-0d382e2db6f3",
   "metadata": {},
   "outputs": [
    {
     "name": "stdout",
     "output_type": "stream",
     "text": [
      "Date Rptd       243\n",
      "AREA NAME         9\n",
      "Crm Cd Desc      75\n",
      "Vict Age         86\n",
      "Vict Sex          3\n",
      "Vict Descent     11\n",
      "Premis Desc      82\n",
      "Weapon Desc      42\n",
      "Status Desc       3\n",
      "LOCATION        789\n",
      "Cross Street    214\n",
      "dtype: int64\n",
      "\n",
      "['M' 'F' nan 'X']\n",
      "3\n",
      "Vict Sex\n",
      "M    2580\n",
      "F    1718\n",
      "X       2\n",
      "Name: count, dtype: int64\n"
     ]
    }
   ],
   "source": [
    "#7\n",
    "print(df.nunique())\n",
    "print()\n",
    "print(df['Vict Sex'].unique())\n",
    "print(df['Vict Sex'].nunique())\n",
    "print(df['Vict Sex'].value_counts())"
   ]
  },
  {
   "cell_type": "code",
   "execution_count": 22,
   "id": "c57771ff-f98f-4dd6-9f6a-1effe39fa13c",
   "metadata": {},
   "outputs": [
    {
     "data": {
      "text/html": [
       "<div>\n",
       "<style scoped>\n",
       "    .dataframe tbody tr th:only-of-type {\n",
       "        vertical-align: middle;\n",
       "    }\n",
       "\n",
       "    .dataframe tbody tr th {\n",
       "        vertical-align: top;\n",
       "    }\n",
       "\n",
       "    .dataframe thead th {\n",
       "        text-align: right;\n",
       "    }\n",
       "</style>\n",
       "<table border=\"1\" class=\"dataframe\">\n",
       "  <thead>\n",
       "    <tr style=\"text-align: right;\">\n",
       "      <th></th>\n",
       "      <th>Date Rptd</th>\n",
       "      <th>AREA NAME</th>\n",
       "      <th>Crm Cd Desc</th>\n",
       "      <th>Vict Age</th>\n",
       "      <th>Vict Sex</th>\n",
       "      <th>Vict Descent</th>\n",
       "      <th>Premis Desc</th>\n",
       "      <th>Weapon Desc</th>\n",
       "      <th>Status Desc</th>\n",
       "      <th>LOCATION</th>\n",
       "      <th>Cross Street</th>\n",
       "    </tr>\n",
       "  </thead>\n",
       "  <tbody>\n",
       "    <tr>\n",
       "      <th>0</th>\n",
       "      <td>2/20/2010 0:00</td>\n",
       "      <td>Newton</td>\n",
       "      <td>VIOLATION OF COURT ORDER</td>\n",
       "      <td>48</td>\n",
       "      <td>M</td>\n",
       "      <td>H</td>\n",
       "      <td>SINGLE FAMILY DWELLING</td>\n",
       "      <td>NaN</td>\n",
       "      <td>Adult Arrest</td>\n",
       "      <td>300 E  GAGE                         AV</td>\n",
       "      <td>NaN</td>\n",
       "    </tr>\n",
       "    <tr>\n",
       "      <th>1</th>\n",
       "      <td>1/16/2010 0:00</td>\n",
       "      <td>Central</td>\n",
       "      <td>BOMB SCARE</td>\n",
       "      <td>29</td>\n",
       "      <td>F</td>\n",
       "      <td>B</td>\n",
       "      <td>LIBRARY</td>\n",
       "      <td>UNKNOWN WEAPON/OTHER WEAPON</td>\n",
       "      <td>Invest Cont</td>\n",
       "      <td>600 W  5TH                          ST</td>\n",
       "      <td>NaN</td>\n",
       "    </tr>\n",
       "    <tr>\n",
       "      <th>2</th>\n",
       "      <td>1/16/2010 0:00</td>\n",
       "      <td>Central</td>\n",
       "      <td>ROBBERY</td>\n",
       "      <td>47</td>\n",
       "      <td>M</td>\n",
       "      <td>A</td>\n",
       "      <td>SIDEWALK</td>\n",
       "      <td>STRONG-ARM (HANDS, FIST, FEET OR BODILY FORCE)</td>\n",
       "      <td>Invest Cont</td>\n",
       "      <td>1ST</td>\n",
       "      <td>LOS ANGELES</td>\n",
       "    </tr>\n",
       "    <tr>\n",
       "      <th>3</th>\n",
       "      <td>1/17/2010 0:00</td>\n",
       "      <td>Central</td>\n",
       "      <td>OTHER MISCELLANEOUS CRIME</td>\n",
       "      <td>41</td>\n",
       "      <td>M</td>\n",
       "      <td>W</td>\n",
       "      <td>ALLEY</td>\n",
       "      <td>NaN</td>\n",
       "      <td>Invest Cont</td>\n",
       "      <td>300 E  OLYMPIC                      BL</td>\n",
       "      <td>NaN</td>\n",
       "    </tr>\n",
       "    <tr>\n",
       "      <th>4</th>\n",
       "      <td>1/23/2010 0:00</td>\n",
       "      <td>Central</td>\n",
       "      <td>CHILD NEGLECT (SEE 300 W.I.C.)</td>\n",
       "      <td>11</td>\n",
       "      <td>M</td>\n",
       "      <td>H</td>\n",
       "      <td>MULTI-UNIT DWELLING (APARTMENT, DUPLEX, ETC)</td>\n",
       "      <td>NaN</td>\n",
       "      <td>Invest Cont</td>\n",
       "      <td>1300 S  FLOWER                       ST</td>\n",
       "      <td>NaN</td>\n",
       "    </tr>\n",
       "  </tbody>\n",
       "</table>\n",
       "</div>"
      ],
      "text/plain": [
       "        Date Rptd AREA NAME                     Crm Cd Desc  Vict Age  \\\n",
       "0  2/20/2010 0:00    Newton        VIOLATION OF COURT ORDER        48   \n",
       "1  1/16/2010 0:00   Central                      BOMB SCARE        29   \n",
       "2  1/16/2010 0:00   Central                         ROBBERY        47   \n",
       "3  1/17/2010 0:00   Central       OTHER MISCELLANEOUS CRIME        41   \n",
       "4  1/23/2010 0:00   Central  CHILD NEGLECT (SEE 300 W.I.C.)        11   \n",
       "\n",
       "  Vict Sex Vict Descent                                   Premis Desc  \\\n",
       "0        M            H                        SINGLE FAMILY DWELLING   \n",
       "1        F            B                                       LIBRARY   \n",
       "2        M            A                                      SIDEWALK   \n",
       "3        M            W                                         ALLEY   \n",
       "4        M            H  MULTI-UNIT DWELLING (APARTMENT, DUPLEX, ETC)   \n",
       "\n",
       "                                      Weapon Desc   Status Desc  \\\n",
       "0                                             NaN  Adult Arrest   \n",
       "1                     UNKNOWN WEAPON/OTHER WEAPON   Invest Cont   \n",
       "2  STRONG-ARM (HANDS, FIST, FEET OR BODILY FORCE)   Invest Cont   \n",
       "3                                             NaN   Invest Cont   \n",
       "4                                             NaN   Invest Cont   \n",
       "\n",
       "                                  LOCATION Cross Street  \n",
       "0   300 E  GAGE                         AV          NaN  \n",
       "1   600 W  5TH                          ST          NaN  \n",
       "2                                      1ST  LOS ANGELES  \n",
       "3   300 E  OLYMPIC                      BL          NaN  \n",
       "4  1300 S  FLOWER                       ST          NaN  "
      ]
     },
     "execution_count": 22,
     "metadata": {},
     "output_type": "execute_result"
    }
   ],
   "source": [
    "df.head()"
   ]
  },
  {
   "cell_type": "code",
   "execution_count": 23,
   "id": "cdb4769d-ff52-4eda-b2fd-53e53e9c3102",
   "metadata": {},
   "outputs": [
    {
     "data": {
      "text/plain": [
       "count    4553.000000\n",
       "mean       33.244454\n",
       "std        17.815441\n",
       "min         0.000000\n",
       "25%        23.000000\n",
       "50%        34.000000\n",
       "75%        46.000000\n",
       "max        99.000000\n",
       "Name: Vict Age, dtype: float64"
      ]
     },
     "execution_count": 23,
     "metadata": {},
     "output_type": "execute_result"
    }
   ],
   "source": [
    "#8\n",
    "df['Vict Age'].describe()"
   ]
  },
  {
   "cell_type": "code",
   "execution_count": 24,
   "id": "85fca823-11a6-4d0d-9b62-25a2a970276a",
   "metadata": {},
   "outputs": [
    {
     "data": {
      "text/plain": [
       "Vict Age\n",
       "0     544\n",
       "23    162\n",
       "26    131\n",
       "27    127\n",
       "25    122\n",
       "     ... \n",
       "2       1\n",
       "4       1\n",
       "8       1\n",
       "93      1\n",
       "7       1\n",
       "Name: count, Length: 86, dtype: int64"
      ]
     },
     "execution_count": 24,
     "metadata": {},
     "output_type": "execute_result"
    }
   ],
   "source": [
    "#9\n",
    "df['Vict Age'].value_counts()"
   ]
  },
  {
   "cell_type": "code",
   "execution_count": 25,
   "id": "7e57cfb1-db9a-4a87-a857-896a635d327b",
   "metadata": {},
   "outputs": [],
   "source": [
    "#10\n",
    "df.drop(columns=['Vict Descent'], inplace=True)"
   ]
  },
  {
   "cell_type": "code",
   "execution_count": 27,
   "id": "c0ea966e-dc43-404e-af86-17f8abc05cfe",
   "metadata": {},
   "outputs": [],
   "source": [
    "import numpy as np"
   ]
  },
  {
   "cell_type": "code",
   "execution_count": 28,
   "id": "75443b67-e2c3-4c3a-9d5f-452341115522",
   "metadata": {},
   "outputs": [],
   "source": [
    "#11\n",
    "df['Vict Sex'] = df['Vict Sex'].replace('X', np.nan)"
   ]
  },
  {
   "cell_type": "code",
   "execution_count": 29,
   "id": "481b1442-71e1-4955-8eea-def5f9c9a6ab",
   "metadata": {},
   "outputs": [],
   "source": [
    "#12\n",
    "df['Date Rptd'] = df['Date Rptd'].apply(pd.to_datetime)"
   ]
  },
  {
   "cell_type": "code",
   "execution_count": 30,
   "id": "58ab1839-caed-487c-8542-b5ab8be5540e",
   "metadata": {},
   "outputs": [],
   "source": [
    "#13\n",
    "df['Year'] = df['Date Rptd'].dt.year\n",
    "df['Month'] = df['Date Rptd'].dt.strftime('%m')"
   ]
  },
  {
   "cell_type": "code",
   "execution_count": 31,
   "id": "85074b60-d873-47d7-bdc4-833b3ae39557",
   "metadata": {},
   "outputs": [],
   "source": [
    "#14\n",
    "df.drop(columns=['Date Rptd'], inplace=True)"
   ]
  },
  {
   "cell_type": "code",
   "execution_count": 33,
   "id": "6621550b-78e7-459e-a4ca-1ba7bddbef9f",
   "metadata": {},
   "outputs": [],
   "source": [
    "#15\n",
    "if df['Year'].nunique() == 1:\n",
    "    df.drop(columns=['Year'], inplace=True)"
   ]
  },
  {
   "cell_type": "code",
   "execution_count": 34,
   "id": "48490b2b-d776-4029-9966-ee4b1ab8c172",
   "metadata": {},
   "outputs": [
    {
     "data": {
      "text/plain": [
       "8"
      ]
     },
     "execution_count": 34,
     "metadata": {},
     "output_type": "execute_result"
    }
   ],
   "source": [
    "#16\n",
    "df['Month'].nunique()"
   ]
  },
  {
   "cell_type": "code",
   "execution_count": 35,
   "id": "eadb7937-75e7-4e5e-a79a-b55814fe1b3a",
   "metadata": {},
   "outputs": [],
   "source": [
    "#17\n",
    "df.dropna(subset=['Crm Cd Desc'], inplace=True)"
   ]
  },
  {
   "cell_type": "code",
   "execution_count": 36,
   "id": "6677e1f6-3a2d-41da-9749-3cd30435887c",
   "metadata": {},
   "outputs": [],
   "source": [
    "#18\n",
    "df['Vict Age'] = df['Vict Age'].replace(0, np.nan)"
   ]
  },
  {
   "cell_type": "code",
   "execution_count": 37,
   "id": "f0886af7-e0dc-4357-9e4b-51fbf033bb0d",
   "metadata": {},
   "outputs": [],
   "source": [
    "#19\n",
    "victim_df = df[['Crm Cd Desc', 'Vict Age', 'Vict Sex']]"
   ]
  },
  {
   "cell_type": "code",
   "execution_count": 39,
   "id": "fd029818-2a13-4cab-a771-2b8ddd050300",
   "metadata": {},
   "outputs": [
    {
     "data": {
      "text/plain": [
       "75"
      ]
     },
     "execution_count": 39,
     "metadata": {},
     "output_type": "execute_result"
    }
   ],
   "source": [
    "#20\n",
    "victim_df['Crm Cd Desc'].nunique()"
   ]
  },
  {
   "cell_type": "code",
   "execution_count": 40,
   "id": "357c7913-8b61-486b-bd40-346511fa8b4e",
   "metadata": {},
   "outputs": [
    {
     "data": {
      "text/plain": [
       "Crm Cd Desc\n",
       "BATTERY - SIMPLE ASSAULT                                    780\n",
       "THEFT PLAIN - PETTY ($950 & UNDER)                          437\n",
       "BURGLARY FROM VEHICLE                                       347\n",
       "THEFT-GRAND ($950.01 & OVER)EXCPT,GUNS,FOWL,LIVESTK,PROD    332\n",
       "ASSAULT WITH DEADLY WEAPON, AGGRAVATED ASSAULT              245\n",
       "                                                           ... \n",
       "WEAPONS POSSESSION/BOMBING                                    1\n",
       "CHILD ABUSE (PHYSICAL) - SIMPLE ASSAULT                       1\n",
       "EMBEZZLEMENT, PETTY THEFT ($950 & UNDER)                      1\n",
       "BUNCO, PETTY THEFT                                            1\n",
       "COUNTERFEIT                                                   1\n",
       "Name: count, Length: 75, dtype: int64"
      ]
     },
     "execution_count": 40,
     "metadata": {},
     "output_type": "execute_result"
    }
   ],
   "source": [
    "#21\n",
    "victim_df['Crm Cd Desc'].value_counts()"
   ]
  },
  {
   "cell_type": "code",
   "execution_count": 42,
   "id": "2dd5d681-865b-4bd0-973a-49d9fa894783",
   "metadata": {},
   "outputs": [
    {
     "data": {
      "text/plain": [
       "'BATTERY - SIMPLE ASSAULT'"
      ]
     },
     "execution_count": 42,
     "metadata": {},
     "output_type": "execute_result"
    }
   ],
   "source": [
    "#22\n",
    "victim_df['Crm Cd Desc'].value_counts().idxmax()"
   ]
  },
  {
   "cell_type": "code",
   "execution_count": 49,
   "id": "2643df21-221c-4aed-a728-77abdf5910bb",
   "metadata": {},
   "outputs": [
    {
     "name": "stdout",
     "output_type": "stream",
     "text": [
      "780\n",
      "17.135325131810195\n"
     ]
    }
   ],
   "source": [
    "#23\n",
    "print(victim_df['Crm Cd Desc'].value_counts().max())\n",
    "most_frequent_crime = victim_df['Crm Cd Desc'].value_counts().idxmax()\n",
    "most_frequent_count = victim_df['Crm Cd Desc'].value_counts().max()\n",
    "total_crimes = victim_df['Crm Cd Desc'].value_counts().sum()\n",
    "print((most_frequent_count / total_crimes) * 100)"
   ]
  },
  {
   "cell_type": "code",
   "execution_count": 50,
   "id": "e0393d87-0ea9-4c0a-a6f6-65ad46ab7a6d",
   "metadata": {},
   "outputs": [
    {
     "data": {
      "text/plain": [
       "Vict Age\n",
       "23.0    162\n",
       "26.0    130\n",
       "27.0    127\n",
       "25.0    122\n",
       "24.0    120\n",
       "Name: count, dtype: int64"
      ]
     },
     "execution_count": 50,
     "metadata": {},
     "output_type": "execute_result"
    }
   ],
   "source": [
    "#24\n",
    "victim_df['Vict Age'].value_counts().head(5)"
   ]
  },
  {
   "cell_type": "code",
   "execution_count": 51,
   "id": "bec007b7-c495-43be-8393-963ee465bfb0",
   "metadata": {},
   "outputs": [
    {
     "data": {
      "text/plain": [
       "231"
      ]
     },
     "execution_count": 51,
     "metadata": {},
     "output_type": "execute_result"
    }
   ],
   "source": [
    "#25\n",
    "victim_df[victim_df['Crm Cd Desc'] == 'ROBBERY'].shape[0]"
   ]
  },
  {
   "cell_type": "code",
   "execution_count": 54,
   "id": "3adf46bd-8944-489d-b6f5-9b846bd30365",
   "metadata": {},
   "outputs": [
    {
     "data": {
      "text/plain": [
       "175"
      ]
     },
     "execution_count": 54,
     "metadata": {},
     "output_type": "execute_result"
    }
   ],
   "source": [
    "#26\n",
    "victim_df[(victim_df['Crm Cd Desc'] == 'ROBBERY') & (victim_df['Vict Sex'] == 'M')].shape[0]"
   ]
  },
  {
   "cell_type": "code",
   "execution_count": 57,
   "id": "3f91c43b-45bb-4e66-9dd1-2e9df0ee8e5b",
   "metadata": {},
   "outputs": [
    {
     "data": {
      "text/plain": [
       "222"
      ]
     },
     "execution_count": 57,
     "metadata": {},
     "output_type": "execute_result"
    }
   ],
   "source": [
    "#27\n",
    "vehicle_related_crimes = victim_df['Crm Cd Desc'].isin(['VEHICLE - ATTEMPT STOLEN', 'VEHICLE - STOLEN']).sum()\n",
    "\n",
    "vehicle_related_crimes"
   ]
  },
  {
   "cell_type": "code",
   "execution_count": 59,
   "id": "faa4ab9b-bc31-4193-80cd-7eb86bf75a4f",
   "metadata": {},
   "outputs": [
    {
     "data": {
      "text/plain": [
       "4.8769771528998245"
      ]
     },
     "execution_count": 59,
     "metadata": {},
     "output_type": "execute_result"
    }
   ],
   "source": [
    "#28\n",
    "(vehicle_related_crimes / total_crimes) * 100"
   ]
  },
  {
   "cell_type": "code",
   "execution_count": 60,
   "id": "49a07202-ae99-42ea-bc15-9e46d8fb8491",
   "metadata": {},
   "outputs": [
    {
     "name": "stdout",
     "output_type": "stream",
     "text": [
      "456\n",
      "10.017574692442881\n"
     ]
    }
   ],
   "source": [
    "#29\n",
    "firearm_related_crimes = victim_df['Crm Cd Desc'].str.contains('WEAPON', case=False).sum()\n",
    "firearm_related_percentage = (firearm_related_crimes / total_crimes) * 100\n",
    "print(firearm_related_crimes)\n",
    "print(firearm_related_percentage)"
   ]
  },
  {
   "cell_type": "code",
   "execution_count": 61,
   "id": "7897f5b9-9d0d-4c7e-8bec-fc2637c96a7d",
   "metadata": {},
   "outputs": [
    {
     "data": {
      "text/plain": [
       "array(['ASSAULT WITH DEADLY WEAPON, AGGRAVATED ASSAULT',\n",
       "       'CRIMINAL THREATS - NO WEAPON DISPLAYED', 'BRANDISH WEAPON',\n",
       "       'ASSAULT WITH DEADLY WEAPON ON POLICE OFFICER',\n",
       "       'WEAPONS POSSESSION/BOMBING'], dtype=object)"
      ]
     },
     "execution_count": 61,
     "metadata": {},
     "output_type": "execute_result"
    }
   ],
   "source": [
    "#30\n",
    "victim_df[victim_df['Crm Cd Desc'].str.contains('WEAPON', case=False)]['Crm Cd Desc'].unique()"
   ]
  },
  {
   "cell_type": "code",
   "execution_count": 65,
   "id": "ad672e08-7777-483f-b59b-329287fd103b",
   "metadata": {},
   "outputs": [
    {
     "name": "stdout",
     "output_type": "stream",
     "text": [
      "Vict Sex\n",
      "M    2579\n",
      "F    1718\n",
      "Name: count, dtype: int64\n"
     ]
    },
    {
     "name": "stderr",
     "output_type": "stream",
     "text": [
      "C:\\Users\\Admin\\AppData\\Local\\Temp\\ipykernel_16992\\3118914783.py:4: FutureWarning: Series.__getitem__ treating keys as positions is deprecated. In a future version, integer keys will always be treated as labels (consistent with DataFrame behavior). To access a value by position, use `ser.iloc[pos]`\n",
      "  victim_gender_distribution[0] < victim_gender_distribution[1]\n"
     ]
    },
    {
     "data": {
      "text/plain": [
       "False"
      ]
     },
     "execution_count": 65,
     "metadata": {},
     "output_type": "execute_result"
    }
   ],
   "source": [
    "#31\n",
    "victim_gender_distribution = victim_df['Vict Sex'].value_counts()\n",
    "print(victim_gender_distribution)\n",
    "victim_gender_distribution[0] < victim_gender_distribution[1]"
   ]
  },
  {
   "cell_type": "code",
   "execution_count": 72,
   "id": "4c65c05f-f36a-428f-ad63-bf25f6a0397f",
   "metadata": {},
   "outputs": [
    {
     "data": {
      "text/plain": [
       "'BATTERY - SIMPLE ASSAULT'"
      ]
     },
     "execution_count": 72,
     "metadata": {},
     "output_type": "execute_result"
    }
   ],
   "source": [
    "#32\n",
    "female_victims_df = victim_df[victim_df['Vict Sex'] == 'F']\n",
    "female_victims_df['Crm Cd Desc'].value_counts().idxmax()"
   ]
  },
  {
   "cell_type": "code",
   "execution_count": 73,
   "id": "7a24e269-1acf-4c4c-a957-aefccfc0adcb",
   "metadata": {},
   "outputs": [
    {
     "data": {
      "text/plain": [
       "'STREET'"
      ]
     },
     "execution_count": 73,
     "metadata": {},
     "output_type": "execute_result"
    }
   ],
   "source": [
    "#33\n",
    "df['Premis Desc'].value_counts().idxmax()"
   ]
  },
  {
   "cell_type": "code",
   "execution_count": 80,
   "id": "59bb2ac3-8c9a-462b-a53e-75b567bf54be",
   "metadata": {},
   "outputs": [
    {
     "data": {
      "text/plain": [
       "True"
      ]
     },
     "execution_count": 80,
     "metadata": {},
     "output_type": "execute_result"
    }
   ],
   "source": [
    "#34\n",
    "df['Premis Desc'].str.contains('SCHOOL', case=False).sum() > 0"
   ]
  },
  {
   "cell_type": "code",
   "execution_count": 82,
   "id": "91066ea3-e74c-46bb-9d04-51ceebe2ab53",
   "metadata": {},
   "outputs": [
    {
     "data": {
      "text/plain": [
       "array(['Adult Arrest', 'Invest Cont', 'Adult Other'], dtype=object)"
      ]
     },
     "execution_count": 82,
     "metadata": {},
     "output_type": "execute_result"
    }
   ],
   "source": [
    "#35\n",
    "df['Status Desc'].unique()"
   ]
  },
  {
   "cell_type": "code",
   "execution_count": 84,
   "id": "5257758c-f636-4f89-80cb-1ce5661d0c29",
   "metadata": {},
   "outputs": [
    {
     "name": "stdout",
     "output_type": "stream",
     "text": [
      "8.699472759226714\n"
     ]
    }
   ],
   "source": [
    "#36\n",
    "arrests_count = df[df['Status Desc'] == 'Adult Arrest'].shape[0]\n",
    "print( (arrests_count / total_crimes) * 100)"
   ]
  },
  {
   "cell_type": "code",
   "execution_count": 85,
   "id": "595f5c13-a392-495e-93c2-7f1ae8eb8e03",
   "metadata": {},
   "outputs": [
    {
     "data": {
      "text/plain": [
       "1938"
      ]
     },
     "execution_count": 85,
     "metadata": {},
     "output_type": "execute_result"
    }
   ],
   "source": [
    "#37\n",
    "df['Weapon Desc'].notna().sum()"
   ]
  },
  {
   "cell_type": "code",
   "execution_count": 86,
   "id": "558bb5f3-5c98-4ef8-a516-cf455562350a",
   "metadata": {},
   "outputs": [
    {
     "data": {
      "text/plain": [
       "'STRONG-ARM (HANDS, FIST, FEET OR BODILY FORCE)'"
      ]
     },
     "execution_count": 86,
     "metadata": {},
     "output_type": "execute_result"
    }
   ],
   "source": [
    "#38\n",
    "df['Weapon Desc'].value_counts().idxmax()"
   ]
  },
  {
   "cell_type": "code",
   "execution_count": 87,
   "id": "f55feb5f-a464-4ca8-a6c2-231c805685f1",
   "metadata": {},
   "outputs": [
    {
     "data": {
      "text/plain": [
       "Vict Sex\n",
       "F    1718\n",
       "M    2579\n",
       "Name: Crm Cd Desc, dtype: int64"
      ]
     },
     "execution_count": 87,
     "metadata": {},
     "output_type": "execute_result"
    }
   ],
   "source": [
    "#39\n",
    "victim_df.groupby('Vict Sex')['Crm Cd Desc'].count()"
   ]
  },
  {
   "cell_type": "code",
   "execution_count": 91,
   "id": "14ad9544-c4e6-4f87-bb94-d39879922ecd",
   "metadata": {},
   "outputs": [
    {
     "data": {
      "text/plain": [
       "Crm Cd Desc\n",
       "ASSAULT WITH DEADLY WEAPON, AGGRAVATED ASSAULT     63\n",
       "ATTEMPTED ROBBERY                                  10\n",
       "BATTERY - SIMPLE ASSAULT                          317\n",
       "BATTERY POLICE (SIMPLE)                             6\n",
       "BATTERY WITH SEXUAL CONTACT                        46\n",
       "                                                 ... \n",
       "VANDALISM - MISDEAMEANOR ($399 OR UNDER)           89\n",
       "VIOLATION OF COURT ORDER                           14\n",
       "VIOLATION OF RESTRAINING ORDER                     19\n",
       "VIOLATION OF TEMPORARY RESTRAINING ORDER            1\n",
       "WEAPONS POSSESSION/BOMBING                          1\n",
       "Length: 64, dtype: int64"
      ]
     },
     "execution_count": 91,
     "metadata": {},
     "output_type": "execute_result"
    }
   ],
   "source": [
    "#40\n",
    "female_victims_df.groupby('Crm Cd Desc').size()"
   ]
  },
  {
   "cell_type": "code",
   "execution_count": 92,
   "id": "79e1d0fa-b5c1-478c-b326-8fb3381ae59b",
   "metadata": {},
   "outputs": [
    {
     "data": {
      "text/plain": [
       "Month\n",
       "01    503\n",
       "02    446\n",
       "03    578\n",
       "04    528\n",
       "05    597\n",
       "06    673\n",
       "07    609\n",
       "08    618\n",
       "dtype: int64"
      ]
     },
     "execution_count": 92,
     "metadata": {},
     "output_type": "execute_result"
    }
   ],
   "source": [
    "#41\n",
    "df.groupby('Month').size()"
   ]
  },
  {
   "cell_type": "code",
   "execution_count": 93,
   "id": "b2413999-df21-4112-a50c-6529a9337032",
   "metadata": {},
   "outputs": [
    {
     "data": {
      "text/plain": [
       "Crm Cd Desc\n",
       "ARSON                                             38.0\n",
       "ASSAULT WITH DEADLY WEAPON ON POLICE OFFICER      36.0\n",
       "ASSAULT WITH DEADLY WEAPON, AGGRAVATED ASSAULT    83.0\n",
       "ATTEMPTED ROBBERY                                 76.0\n",
       "BATTERY - SIMPLE ASSAULT                          99.0\n",
       "                                                  ... \n",
       "VEHICLE - STOLEN                                  31.0\n",
       "VIOLATION OF COURT ORDER                          56.0\n",
       "VIOLATION OF RESTRAINING ORDER                    56.0\n",
       "VIOLATION OF TEMPORARY RESTRAINING ORDER          39.0\n",
       "WEAPONS POSSESSION/BOMBING                        37.0\n",
       "Name: Vict Age, Length: 75, dtype: float64"
      ]
     },
     "execution_count": 93,
     "metadata": {},
     "output_type": "execute_result"
    }
   ],
   "source": [
    "#42\n",
    "victim_df.groupby('Crm Cd Desc')['Vict Age'].max()"
   ]
  },
  {
   "cell_type": "code",
   "execution_count": 94,
   "id": "5d646694-8942-41ea-8e5b-e7b2f1e696be",
   "metadata": {},
   "outputs": [
    {
     "data": {
      "text/plain": [
       "'CHILD ABUSE (PHYSICAL) - AGGRAVATED ASSAULT'"
      ]
     },
     "execution_count": 94,
     "metadata": {},
     "output_type": "execute_result"
    }
   ],
   "source": [
    "#43\n",
    "victim_df.groupby('Crm Cd Desc')['Vict Age'].max().idxmin()"
   ]
  },
  {
   "cell_type": "code",
   "execution_count": 95,
   "id": "0a09a00e-d002-46c2-97e0-f26bf5970dd2",
   "metadata": {},
   "outputs": [],
   "source": [
    "#44\n",
    "Zv = df.pivot_table(index='Month', columns='Crm Cd Desc', values='Vict Sex', aggfunc=np.count_nonzero)"
   ]
  },
  {
   "cell_type": "code",
   "execution_count": 96,
   "id": "d7aba118-21ec-4321-9ec7-2212836d1e3e",
   "metadata": {},
   "outputs": [
    {
     "data": {
      "text/plain": [
       "Month\n",
       "01    30.0\n",
       "02    19.0\n",
       "03    29.0\n",
       "04    26.0\n",
       "05    31.0\n",
       "06    29.0\n",
       "07    30.0\n",
       "08    37.0\n",
       "Name: ROBBERY, dtype: float64"
      ]
     },
     "execution_count": 96,
     "metadata": {},
     "output_type": "execute_result"
    }
   ],
   "source": [
    "#45\n",
    "Zv['ROBBERY']"
   ]
  },
  {
   "cell_type": "code",
   "execution_count": 98,
   "id": "8f864dec-bbca-486d-924e-dcd39447670b",
   "metadata": {},
   "outputs": [
    {
     "data": {
      "text/plain": [
       "37.0"
      ]
     },
     "execution_count": 98,
     "metadata": {},
     "output_type": "execute_result"
    }
   ],
   "source": [
    "#46\n",
    "Zv['ROBBERY'].max()"
   ]
  },
  {
   "cell_type": "code",
   "execution_count": 100,
   "id": "54cca6c9-7d8a-4d73-8726-985037777f73",
   "metadata": {},
   "outputs": [
    {
     "data": {
      "text/html": [
       "<div>\n",
       "<style scoped>\n",
       "    .dataframe tbody tr th:only-of-type {\n",
       "        vertical-align: middle;\n",
       "    }\n",
       "\n",
       "    .dataframe tbody tr th {\n",
       "        vertical-align: top;\n",
       "    }\n",
       "\n",
       "    .dataframe thead th {\n",
       "        text-align: right;\n",
       "    }\n",
       "</style>\n",
       "<table border=\"1\" class=\"dataframe\">\n",
       "  <thead>\n",
       "    <tr style=\"text-align: right;\">\n",
       "      <th>Crm Cd Desc</th>\n",
       "      <th>ARSON</th>\n",
       "      <th>ASSAULT WITH DEADLY WEAPON ON POLICE OFFICER</th>\n",
       "      <th>ASSAULT WITH DEADLY WEAPON, AGGRAVATED ASSAULT</th>\n",
       "      <th>ATTEMPTED ROBBERY</th>\n",
       "      <th>BATTERY - SIMPLE ASSAULT</th>\n",
       "      <th>BATTERY POLICE (SIMPLE)</th>\n",
       "      <th>BATTERY WITH SEXUAL CONTACT</th>\n",
       "      <th>BIKE - STOLEN</th>\n",
       "      <th>BOMB SCARE</th>\n",
       "      <th>BRANDISH WEAPON</th>\n",
       "      <th>...</th>\n",
       "      <th>TRESPASSING</th>\n",
       "      <th>UNAUTHORIZED COMPUTER ACCESS</th>\n",
       "      <th>VANDALISM - FELONY ($400 &amp; OVER, ALL CHURCH VANDALISMS)</th>\n",
       "      <th>VANDALISM - MISDEAMEANOR ($399 OR UNDER)</th>\n",
       "      <th>VEHICLE - ATTEMPT STOLEN</th>\n",
       "      <th>VEHICLE - STOLEN</th>\n",
       "      <th>VIOLATION OF COURT ORDER</th>\n",
       "      <th>VIOLATION OF RESTRAINING ORDER</th>\n",
       "      <th>VIOLATION OF TEMPORARY RESTRAINING ORDER</th>\n",
       "      <th>WEAPONS POSSESSION/BOMBING</th>\n",
       "    </tr>\n",
       "    <tr>\n",
       "      <th>Month</th>\n",
       "      <th></th>\n",
       "      <th></th>\n",
       "      <th></th>\n",
       "      <th></th>\n",
       "      <th></th>\n",
       "      <th></th>\n",
       "      <th></th>\n",
       "      <th></th>\n",
       "      <th></th>\n",
       "      <th></th>\n",
       "      <th></th>\n",
       "      <th></th>\n",
       "      <th></th>\n",
       "      <th></th>\n",
       "      <th></th>\n",
       "      <th></th>\n",
       "      <th></th>\n",
       "      <th></th>\n",
       "      <th></th>\n",
       "      <th></th>\n",
       "      <th></th>\n",
       "    </tr>\n",
       "  </thead>\n",
       "  <tbody>\n",
       "    <tr>\n",
       "      <th>01</th>\n",
       "      <td>1.0</td>\n",
       "      <td>NaN</td>\n",
       "      <td>28.0</td>\n",
       "      <td>5.0</td>\n",
       "      <td>100.0</td>\n",
       "      <td>4.0</td>\n",
       "      <td>6.0</td>\n",
       "      <td>1.0</td>\n",
       "      <td>1.0</td>\n",
       "      <td>2.0</td>\n",
       "      <td>...</td>\n",
       "      <td>6.0</td>\n",
       "      <td>NaN</td>\n",
       "      <td>12.0</td>\n",
       "      <td>15.0</td>\n",
       "      <td>NaN</td>\n",
       "      <td>14.0</td>\n",
       "      <td>2.0</td>\n",
       "      <td>4.0</td>\n",
       "      <td>NaN</td>\n",
       "      <td>NaN</td>\n",
       "    </tr>\n",
       "    <tr>\n",
       "      <th>02</th>\n",
       "      <td>NaN</td>\n",
       "      <td>1.0</td>\n",
       "      <td>22.0</td>\n",
       "      <td>2.0</td>\n",
       "      <td>91.0</td>\n",
       "      <td>NaN</td>\n",
       "      <td>4.0</td>\n",
       "      <td>NaN</td>\n",
       "      <td>NaN</td>\n",
       "      <td>NaN</td>\n",
       "      <td>...</td>\n",
       "      <td>6.0</td>\n",
       "      <td>NaN</td>\n",
       "      <td>11.0</td>\n",
       "      <td>22.0</td>\n",
       "      <td>1.0</td>\n",
       "      <td>27.0</td>\n",
       "      <td>7.0</td>\n",
       "      <td>4.0</td>\n",
       "      <td>1.0</td>\n",
       "      <td>NaN</td>\n",
       "    </tr>\n",
       "    <tr>\n",
       "      <th>03</th>\n",
       "      <td>1.0</td>\n",
       "      <td>NaN</td>\n",
       "      <td>22.0</td>\n",
       "      <td>5.0</td>\n",
       "      <td>114.0</td>\n",
       "      <td>3.0</td>\n",
       "      <td>3.0</td>\n",
       "      <td>2.0</td>\n",
       "      <td>5.0</td>\n",
       "      <td>7.0</td>\n",
       "      <td>...</td>\n",
       "      <td>14.0</td>\n",
       "      <td>NaN</td>\n",
       "      <td>9.0</td>\n",
       "      <td>35.0</td>\n",
       "      <td>NaN</td>\n",
       "      <td>33.0</td>\n",
       "      <td>7.0</td>\n",
       "      <td>6.0</td>\n",
       "      <td>NaN</td>\n",
       "      <td>1.0</td>\n",
       "    </tr>\n",
       "    <tr>\n",
       "      <th>04</th>\n",
       "      <td>1.0</td>\n",
       "      <td>1.0</td>\n",
       "      <td>27.0</td>\n",
       "      <td>4.0</td>\n",
       "      <td>76.0</td>\n",
       "      <td>1.0</td>\n",
       "      <td>2.0</td>\n",
       "      <td>NaN</td>\n",
       "      <td>NaN</td>\n",
       "      <td>2.0</td>\n",
       "      <td>...</td>\n",
       "      <td>7.0</td>\n",
       "      <td>NaN</td>\n",
       "      <td>12.0</td>\n",
       "      <td>27.0</td>\n",
       "      <td>NaN</td>\n",
       "      <td>33.0</td>\n",
       "      <td>1.0</td>\n",
       "      <td>3.0</td>\n",
       "      <td>NaN</td>\n",
       "      <td>NaN</td>\n",
       "    </tr>\n",
       "    <tr>\n",
       "      <th>05</th>\n",
       "      <td>NaN</td>\n",
       "      <td>NaN</td>\n",
       "      <td>33.0</td>\n",
       "      <td>4.0</td>\n",
       "      <td>104.0</td>\n",
       "      <td>1.0</td>\n",
       "      <td>9.0</td>\n",
       "      <td>NaN</td>\n",
       "      <td>3.0</td>\n",
       "      <td>5.0</td>\n",
       "      <td>...</td>\n",
       "      <td>4.0</td>\n",
       "      <td>NaN</td>\n",
       "      <td>18.0</td>\n",
       "      <td>26.0</td>\n",
       "      <td>1.0</td>\n",
       "      <td>30.0</td>\n",
       "      <td>9.0</td>\n",
       "      <td>4.0</td>\n",
       "      <td>NaN</td>\n",
       "      <td>NaN</td>\n",
       "    </tr>\n",
       "  </tbody>\n",
       "</table>\n",
       "<p>5 rows × 75 columns</p>\n",
       "</div>"
      ],
      "text/plain": [
       "Crm Cd Desc  ARSON  ASSAULT WITH DEADLY WEAPON ON POLICE OFFICER  \\\n",
       "Month                                                              \n",
       "01             1.0                                           NaN   \n",
       "02             NaN                                           1.0   \n",
       "03             1.0                                           NaN   \n",
       "04             1.0                                           1.0   \n",
       "05             NaN                                           NaN   \n",
       "\n",
       "Crm Cd Desc  ASSAULT WITH DEADLY WEAPON, AGGRAVATED ASSAULT  \\\n",
       "Month                                                         \n",
       "01                                                     28.0   \n",
       "02                                                     22.0   \n",
       "03                                                     22.0   \n",
       "04                                                     27.0   \n",
       "05                                                     33.0   \n",
       "\n",
       "Crm Cd Desc  ATTEMPTED ROBBERY  BATTERY - SIMPLE ASSAULT  \\\n",
       "Month                                                      \n",
       "01                         5.0                     100.0   \n",
       "02                         2.0                      91.0   \n",
       "03                         5.0                     114.0   \n",
       "04                         4.0                      76.0   \n",
       "05                         4.0                     104.0   \n",
       "\n",
       "Crm Cd Desc  BATTERY POLICE (SIMPLE)  BATTERY WITH SEXUAL CONTACT  \\\n",
       "Month                                                               \n",
       "01                               4.0                          6.0   \n",
       "02                               NaN                          4.0   \n",
       "03                               3.0                          3.0   \n",
       "04                               1.0                          2.0   \n",
       "05                               1.0                          9.0   \n",
       "\n",
       "Crm Cd Desc  BIKE - STOLEN  BOMB SCARE  BRANDISH WEAPON  ...  TRESPASSING  \\\n",
       "Month                                                    ...                \n",
       "01                     1.0         1.0              2.0  ...          6.0   \n",
       "02                     NaN         NaN              NaN  ...          6.0   \n",
       "03                     2.0         5.0              7.0  ...         14.0   \n",
       "04                     NaN         NaN              2.0  ...          7.0   \n",
       "05                     NaN         3.0              5.0  ...          4.0   \n",
       "\n",
       "Crm Cd Desc  UNAUTHORIZED COMPUTER ACCESS  \\\n",
       "Month                                       \n",
       "01                                    NaN   \n",
       "02                                    NaN   \n",
       "03                                    NaN   \n",
       "04                                    NaN   \n",
       "05                                    NaN   \n",
       "\n",
       "Crm Cd Desc  VANDALISM - FELONY ($400 & OVER, ALL CHURCH VANDALISMS)  \\\n",
       "Month                                                                  \n",
       "01                                                        12.0         \n",
       "02                                                        11.0         \n",
       "03                                                         9.0         \n",
       "04                                                        12.0         \n",
       "05                                                        18.0         \n",
       "\n",
       "Crm Cd Desc  VANDALISM - MISDEAMEANOR ($399 OR UNDER)  \\\n",
       "Month                                                   \n",
       "01                                               15.0   \n",
       "02                                               22.0   \n",
       "03                                               35.0   \n",
       "04                                               27.0   \n",
       "05                                               26.0   \n",
       "\n",
       "Crm Cd Desc  VEHICLE - ATTEMPT STOLEN  VEHICLE - STOLEN  \\\n",
       "Month                                                     \n",
       "01                                NaN              14.0   \n",
       "02                                1.0              27.0   \n",
       "03                                NaN              33.0   \n",
       "04                                NaN              33.0   \n",
       "05                                1.0              30.0   \n",
       "\n",
       "Crm Cd Desc  VIOLATION OF COURT ORDER  VIOLATION OF RESTRAINING ORDER  \\\n",
       "Month                                                                   \n",
       "01                                2.0                             4.0   \n",
       "02                                7.0                             4.0   \n",
       "03                                7.0                             6.0   \n",
       "04                                1.0                             3.0   \n",
       "05                                9.0                             4.0   \n",
       "\n",
       "Crm Cd Desc  VIOLATION OF TEMPORARY RESTRAINING ORDER  \\\n",
       "Month                                                   \n",
       "01                                                NaN   \n",
       "02                                                1.0   \n",
       "03                                                NaN   \n",
       "04                                                NaN   \n",
       "05                                                NaN   \n",
       "\n",
       "Crm Cd Desc  WEAPONS POSSESSION/BOMBING  \n",
       "Month                                    \n",
       "01                                  NaN  \n",
       "02                                  NaN  \n",
       "03                                  1.0  \n",
       "04                                  NaN  \n",
       "05                                  NaN  \n",
       "\n",
       "[5 rows x 75 columns]"
      ]
     },
     "execution_count": 100,
     "metadata": {},
     "output_type": "execute_result"
    }
   ],
   "source": [
    "Zv.head()"
   ]
  },
  {
   "cell_type": "code",
   "execution_count": 106,
   "id": "909b9d32-3677-41e2-922b-a3b13b6e3f48",
   "metadata": {},
   "outputs": [
    {
     "data": {
      "text/plain": [
       "Index(['ASSAULT WITH DEADLY WEAPON, AGGRAVATED ASSAULT', 'ATTEMPTED ROBBERY',\n",
       "       'BATTERY - SIMPLE ASSAULT', 'BATTERY WITH SEXUAL CONTACT', 'BURGLARY',\n",
       "       'BURGLARY FROM VEHICLE', 'CRIMINAL THREATS - NO WEAPON DISPLAYED',\n",
       "       'DOCUMENT FORGERY / STOLEN FELONY',\n",
       "       'INTIMATE PARTNER - AGGRAVATED ASSAULT',\n",
       "       'INTIMATE PARTNER - SIMPLE ASSAULT',\n",
       "       'LETTERS, LEWD  -  TELEPHONE CALLS, LEWD', 'OTHER MISCELLANEOUS CRIME',\n",
       "       'RAPE, FORCIBLE', 'ROBBERY', 'SHOPLIFTING - PETTY THEFT ($950 & UNDER)',\n",
       "       'THEFT FROM MOTOR VEHICLE - PETTY ($950 & UNDER)', 'THEFT OF IDENTITY',\n",
       "       'THEFT PLAIN - PETTY ($950 & UNDER)', 'THEFT, PERSON',\n",
       "       'THEFT-GRAND ($950.01 & OVER)EXCPT,GUNS,FOWL,LIVESTK,PROD',\n",
       "       'TRESPASSING',\n",
       "       'VANDALISM - FELONY ($400 & OVER, ALL CHURCH VANDALISMS)',\n",
       "       'VANDALISM - MISDEAMEANOR ($399 OR UNDER)', 'VEHICLE - STOLEN',\n",
       "       'VIOLATION OF COURT ORDER', 'VIOLATION OF RESTRAINING ORDER'],\n",
       "      dtype='object', name='Crm Cd Desc')"
      ]
     },
     "execution_count": 106,
     "metadata": {},
     "output_type": "execute_result"
    }
   ],
   "source": [
    "#47\n",
    "zv_without_na = Zv.dropna(axis=1)\n",
    "zv_without_na.columns"
   ]
  },
  {
   "cell_type": "code",
   "execution_count": 99,
   "id": "c1ce4816-a350-4b97-b373-d552f0581d48",
   "metadata": {},
   "outputs": [
    {
     "data": {
      "text/html": [
       "<div>\n",
       "<style scoped>\n",
       "    .dataframe tbody tr th:only-of-type {\n",
       "        vertical-align: middle;\n",
       "    }\n",
       "\n",
       "    .dataframe tbody tr th {\n",
       "        vertical-align: top;\n",
       "    }\n",
       "\n",
       "    .dataframe thead th {\n",
       "        text-align: right;\n",
       "    }\n",
       "</style>\n",
       "<table border=\"1\" class=\"dataframe\">\n",
       "  <thead>\n",
       "    <tr style=\"text-align: right;\">\n",
       "      <th>Vict Sex</th>\n",
       "      <th>F</th>\n",
       "      <th>M</th>\n",
       "    </tr>\n",
       "    <tr>\n",
       "      <th>Month</th>\n",
       "      <th></th>\n",
       "      <th></th>\n",
       "    </tr>\n",
       "  </thead>\n",
       "  <tbody>\n",
       "    <tr>\n",
       "      <th>01</th>\n",
       "      <td>195</td>\n",
       "      <td>290</td>\n",
       "    </tr>\n",
       "    <tr>\n",
       "      <th>02</th>\n",
       "      <td>176</td>\n",
       "      <td>239</td>\n",
       "    </tr>\n",
       "    <tr>\n",
       "      <th>03</th>\n",
       "      <td>219</td>\n",
       "      <td>323</td>\n",
       "    </tr>\n",
       "    <tr>\n",
       "      <th>04</th>\n",
       "      <td>198</td>\n",
       "      <td>292</td>\n",
       "    </tr>\n",
       "    <tr>\n",
       "      <th>05</th>\n",
       "      <td>216</td>\n",
       "      <td>347</td>\n",
       "    </tr>\n",
       "  </tbody>\n",
       "</table>\n",
       "</div>"
      ],
      "text/plain": [
       "Vict Sex    F    M\n",
       "Month             \n",
       "01        195  290\n",
       "02        176  239\n",
       "03        219  323\n",
       "04        198  292\n",
       "05        216  347"
      ]
     },
     "execution_count": 99,
     "metadata": {},
     "output_type": "execute_result"
    }
   ],
   "source": [
    "#48\n",
    "pivot_table_gender_crime = df.pivot_table(index='Month', columns='Vict Sex', values='Crm Cd Desc', aggfunc='count')\n",
    "pivot_table_gender_crime.head()"
   ]
  },
  {
   "cell_type": "code",
   "execution_count": null,
   "id": "fdab8431-64aa-43ed-90a5-1767fdbe1549",
   "metadata": {},
   "outputs": [],
   "source": []
  }
 ],
 "metadata": {
  "kernelspec": {
   "display_name": "Python 3 (ipykernel)",
   "language": "python",
   "name": "python3"
  },
  "language_info": {
   "codemirror_mode": {
    "name": "ipython",
    "version": 3
   },
   "file_extension": ".py",
   "mimetype": "text/x-python",
   "name": "python",
   "nbconvert_exporter": "python",
   "pygments_lexer": "ipython3",
   "version": "3.11.7"
  }
 },
 "nbformat": 4,
 "nbformat_minor": 5
}
