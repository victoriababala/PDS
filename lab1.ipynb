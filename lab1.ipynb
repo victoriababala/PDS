{
 "cells": [
  {
   "cell_type": "code",
   "execution_count": 1,
   "id": "c60d86ca-b42b-4201-ab00-3c3867e4e705",
   "metadata": {},
   "outputs": [],
   "source": [
    "import numpy as np"
   ]
  },
  {
   "cell_type": "code",
   "execution_count": 3,
   "id": "4893f0af-ae51-4677-831d-d3edda665e3b",
   "metadata": {},
   "outputs": [
    {
     "ename": "ValueError",
     "evalue": "operands could not be broadcast together with shapes (4,) (3,) ",
     "output_type": "error",
     "traceback": [
      "\u001b[1;31m---------------------------------------------------------------------------\u001b[0m",
      "\u001b[1;31mValueError\u001b[0m                                Traceback (most recent call last)",
      "Cell \u001b[1;32mIn[3], line 3\u001b[0m\n\u001b[0;32m      1\u001b[0m a \u001b[38;5;241m=\u001b[39m np\u001b[38;5;241m.\u001b[39marray([\u001b[38;5;241m1\u001b[39m,\u001b[38;5;241m2\u001b[39m,\u001b[38;5;241m3\u001b[39m,\u001b[38;5;241m4\u001b[39m])\n\u001b[0;32m      2\u001b[0m b \u001b[38;5;241m=\u001b[39m np\u001b[38;5;241m.\u001b[39marray([\u001b[38;5;241m1\u001b[39m,\u001b[38;5;241m0\u001b[39m,\u001b[38;5;241m0\u001b[39m])\n\u001b[1;32m----> 3\u001b[0m a\u001b[38;5;241m<\u001b[39mb\n",
      "\u001b[1;31mValueError\u001b[0m: operands could not be broadcast together with shapes (4,) (3,) "
     ]
    }
   ],
   "source": [
    "a = np.array([1,2,3,4])\n",
    "b = np.array([1,0,0])\n",
    "a<b"
   ]
  },
  {
   "cell_type": "code",
   "execution_count": 134,
   "id": "4da52bbe-e98e-48a2-a07b-81ece5e452e9",
   "metadata": {},
   "outputs": [
    {
     "data": {
      "text/plain": [
       "[array([ 4,  1,  0, -2,  5,  7, -3,  0,  0,  5,  0]),\n",
       " array([-1,  3,  6,  9,  5,  7, 11,  9,  6,  0])]"
      ]
     },
     "execution_count": 134,
     "metadata": {},
     "output_type": "execute_result"
    }
   ],
   "source": [
    "temp = np.array([4,1,0,-2,5,7,-3,0,0,5,0,-1,3,6,9,5,7,11,9,6,0])\n",
    "newarr = np.array_split(temp,2)\n",
    "newarr"
   ]
  },
  {
   "cell_type": "code",
   "execution_count": 125,
   "id": "ce6e7da6-faf7-480b-b1ae-6ad0ba92953b",
   "metadata": {},
   "outputs": [
    {
     "data": {
      "text/plain": [
       "2.032258064516129"
      ]
     },
     "execution_count": 125,
     "metadata": {},
     "output_type": "execute_result"
    }
   ],
   "source": [
    "#2\n",
    "temp.mean()"
   ]
  },
  {
   "cell_type": "code",
   "execution_count": 67,
   "id": "e383e748-6324-447a-8e88-f150f7128287",
   "metadata": {},
   "outputs": [
    {
     "name": "stdout",
     "output_type": "stream",
     "text": [
      "11\n"
     ]
    }
   ],
   "source": [
    "#3\n",
    "print(temp.max())"
   ]
  },
  {
   "cell_type": "code",
   "execution_count": 68,
   "id": "3f76bcc8-5ab5-4c3b-b760-46e683d78b89",
   "metadata": {},
   "outputs": [
    {
     "name": "stdout",
     "output_type": "stream",
     "text": [
      "17\n"
     ]
    }
   ],
   "source": [
    "#4\n",
    "print(temp.argmax())"
   ]
  },
  {
   "cell_type": "code",
   "execution_count": 69,
   "id": "0fc6e719-11b0-4b36-9366-680a3ff4b88f",
   "metadata": {},
   "outputs": [
    {
     "data": {
      "text/plain": [
       "array([ 4,  1,  0, -2,  5,  7, -3,  0,  0,  5,  0, -1,  3,  6,  9,  5,  7,\n",
       "        0,  9,  6,  0])"
      ]
     },
     "execution_count": 69,
     "metadata": {},
     "output_type": "execute_result"
    }
   ],
   "source": [
    "#5\n",
    "max_temp_day = temp.argmax()\n",
    "temp[max_temp_day] = 0\n",
    "temp"
   ]
  },
  {
   "cell_type": "code",
   "execution_count": 71,
   "id": "3d5d41b4-9be3-4b3f-bc76-d8c22b3a0911",
   "metadata": {},
   "outputs": [
    {
     "data": {
      "text/plain": [
       "3"
      ]
     },
     "execution_count": 71,
     "metadata": {},
     "output_type": "execute_result"
    }
   ],
   "source": [
    "#6\n",
    "len(temp[temp < 0])"
   ]
  },
  {
   "cell_type": "code",
   "execution_count": 72,
   "id": "f17b4e1e-67aa-4a91-b294-b70d860e5613",
   "metadata": {},
   "outputs": [
    {
     "name": "stdout",
     "output_type": "stream",
     "text": [
      "False\n",
      "True\n"
     ]
    }
   ],
   "source": [
    "#7\n",
    "\n",
    "print(np.any(temp>10))\n",
    "\n",
    "print(np.any(temp>5))"
   ]
  },
  {
   "cell_type": "code",
   "execution_count": 73,
   "id": "4fb81a37-cd51-4ad7-8127-41807967d1dd",
   "metadata": {},
   "outputs": [
    {
     "name": "stdout",
     "output_type": "stream",
     "text": [
      "True\n"
     ]
    }
   ],
   "source": [
    "#8\n",
    "print(np.all(temp < 10))"
   ]
  },
  {
   "cell_type": "code",
   "execution_count": 74,
   "id": "182f8d26-a364-4f9e-857c-7afebda548b5",
   "metadata": {},
   "outputs": [
    {
     "name": "stdout",
     "output_type": "stream",
     "text": [
      "[ 3  1  2  7  2 10  3  0  5  5  1  4  3  3  4  2  7  9  3  6]\n",
      "[False False False  True False  True False False False False False False\n",
      " False False False False  True  True False  True]\n",
      "5\n"
     ]
    }
   ],
   "source": [
    "#9\n",
    "temp_diff = np.abs(np.diff(temp))\n",
    "print(temp_diff)\n",
    "print(temp_diff> 5)\n",
    "print(np.sum(temp_diff >5))"
   ]
  },
  {
   "cell_type": "code",
   "execution_count": 79,
   "id": "f31b867d-0c90-4ba4-86d6-20a5bd6b5515",
   "metadata": {},
   "outputs": [
    {
     "data": {
      "text/plain": [
       "array([ 5,  2,  1, -1,  6,  8, -2,  1,  1,  6,  1,  0,  4,  7, 10,  6,  8,\n",
       "        1, 10,  7,  1])"
      ]
     },
     "execution_count": 79,
     "metadata": {},
     "output_type": "execute_result"
    }
   ],
   "source": [
    "#10\n",
    "temp = temp +1\n",
    "temp"
   ]
  },
  {
   "cell_type": "code",
   "execution_count": 80,
   "id": "2dcd8f5f-b07b-4788-8fe9-0c3d838a0dcb",
   "metadata": {},
   "outputs": [
    {
     "data": {
      "text/plain": [
       "21"
      ]
     },
     "execution_count": 80,
     "metadata": {},
     "output_type": "execute_result"
    }
   ],
   "source": [
    "#11\n",
    "len(temp)"
   ]
  },
  {
   "cell_type": "code",
   "execution_count": 83,
   "id": "4f0ddbb3-6166-43d6-a227-43fa4b9b4120",
   "metadata": {},
   "outputs": [
    {
     "data": {
      "text/plain": [
       "array([ 2, -4, -4, -4, -5, -5, -1,  3,  1, -2])"
      ]
     },
     "execution_count": 83,
     "metadata": {},
     "output_type": "execute_result"
    }
   ],
   "source": [
    "#12\n",
    "arr = np.random.randint(-5,5,(31-len(temp)))\n",
    "arr"
   ]
  },
  {
   "cell_type": "code",
   "execution_count": 128,
   "id": "08d08f32-02e4-4ddf-87d5-bce3586da57d",
   "metadata": {},
   "outputs": [
    {
     "data": {
      "text/plain": [
       "array([ 5,  2,  1, -1,  6,  8, -2,  1,  1,  6,  1,  0,  4,  7, 10,  6,  8,\n",
       "        1, 10,  7,  1,  2, -4, -4, -4, -5, -5, -1,  3,  1, -2,  2, -4, -4,\n",
       "       -4, -5, -5, -1,  3,  1, -2,  2, -4, -4, -4, -5, -5, -1,  3,  1, -2])"
      ]
     },
     "execution_count": 128,
     "metadata": {},
     "output_type": "execute_result"
    }
   ],
   "source": [
    "#13\n",
    "#temp = np.concatenate((temp,arr))\n",
    "temp = np.append(temp,arr)\n",
    "temp"
   ]
  },
  {
   "cell_type": "code",
   "execution_count": 85,
   "id": "c694d092-3c97-4723-8b41-03c113c1f79a",
   "metadata": {},
   "outputs": [
    {
     "data": {
      "text/plain": [
       "array([ 5,  2,  1, -1,  6,  8, -2,  1,  1,  6,  1,  0,  4,  7, 10,  6,  8,\n",
       "        1, 10,  7,  1,  2, -4, -4, -4, -5, -5, -1,  3,  1, -2])"
      ]
     },
     "execution_count": 85,
     "metadata": {},
     "output_type": "execute_result"
    }
   ],
   "source": [
    "temp"
   ]
  },
  {
   "cell_type": "code",
   "execution_count": null,
   "id": "de38d972-9668-42ea-b36a-0159e257ca42",
   "metadata": {},
   "outputs": [],
   "source": []
  },
  {
   "cell_type": "code",
   "execution_count": 86,
   "id": "3a2f5e6d-9145-497c-8515-569de86695ee",
   "metadata": {},
   "outputs": [],
   "source": [
    "a= np.array([-5,3])\n",
    "b = np.array([2,4])\n"
   ]
  },
  {
   "cell_type": "code",
   "execution_count": 129,
   "id": "2459efaa-dd5e-4d85-a7c1-34604231feb7",
   "metadata": {},
   "outputs": [
    {
     "data": {
      "text/plain": [
       "array([6, 2, 5])"
      ]
     },
     "execution_count": 129,
     "metadata": {},
     "output_type": "execute_result"
    }
   ],
   "source": [
    "#1\n",
    "c = a+b\n",
    "c\n",
    "#Answer is Б"
   ]
  },
  {
   "cell_type": "code",
   "execution_count": 89,
   "id": "11ce5d0d-5859-4ac4-9f55-49a2dfd3153c",
   "metadata": {},
   "outputs": [
    {
     "name": "stdout",
     "output_type": "stream",
     "text": [
      "[-2  4]\n"
     ]
    }
   ],
   "source": [
    "#2\n",
    "a= np.array([3,-6])\n",
    "b = np.array([1,-2])\n",
    "c = b - a\n",
    "print(c)\n",
    "#Answer is Б"
   ]
  },
  {
   "cell_type": "code",
   "execution_count": 121,
   "id": "63b49da3-3686-4643-b8d5-ea090ea5cc3d",
   "metadata": {},
   "outputs": [
    {
     "name": "stdout",
     "output_type": "stream",
     "text": [
      "-11\n"
     ]
    }
   ],
   "source": [
    "#3\n",
    "a= np.array([-3,2])\n",
    "b = np.array([1,-4])\n",
    "print(np.dot(a,b))\n",
    "#Answer is B"
   ]
  },
  {
   "cell_type": "code",
   "execution_count": 99,
   "id": "aa204a0d-a336-4f61-9a9f-dd2bfe7de9db",
   "metadata": {},
   "outputs": [
    {
     "name": "stdout",
     "output_type": "stream",
     "text": [
      "5.0\n"
     ]
    }
   ],
   "source": [
    "#4\n",
    "a= np.array([4,-3])\n",
    "b = np.array([0,-6])\n",
    "res = np.sqrt(np.sum(np.abs(a-b)**2))\n",
    "print(res)\n",
    "#Answer is A"
   ]
  },
  {
   "cell_type": "code",
   "execution_count": 103,
   "id": "9f753af2-56b4-42f8-bfea-54b545776dc7",
   "metadata": {},
   "outputs": [
    {
     "name": "stdout",
     "output_type": "stream",
     "text": [
      "[-11   9]\n"
     ]
    }
   ],
   "source": [
    "#5\n",
    "a= np.array([-4,8])\n",
    "b = np.array([3,7])\n",
    "c= 2*a -b\n",
    "print(c)\n",
    "#Answer is A"
   ]
  },
  {
   "cell_type": "code",
   "execution_count": 109,
   "id": "6d1998dd-4740-4ce6-a8f4-8234c15fb6d0",
   "metadata": {},
   "outputs": [],
   "source": [
    "#6\n",
    "a= np.array([0,2,-2])\n",
    "b = np.array([1,0,-1])"
   ]
  },
  {
   "cell_type": "code",
   "execution_count": 110,
   "id": "6d5c2f72-fb4f-4099-8cb8-87a51819b21c",
   "metadata": {},
   "outputs": [
    {
     "data": {
      "text/plain": [
       "1.4142135623730951"
      ]
     },
     "execution_count": 110,
     "metadata": {},
     "output_type": "execute_result"
    }
   ],
   "source": [
    "sc = np.sum(a*b)\n",
    "mod1 = np.sqrt(np.sum(a**2))\n",
    "mod2 = np.sqrt(np.sum(b**2))\n",
    "mod2"
   ]
  },
  {
   "cell_type": "code",
   "execution_count": 111,
   "id": "53ec73ec-d078-4b57-8965-219046a4cf87",
   "metadata": {},
   "outputs": [],
   "source": [
    "res = sc/(mod1*mod2)"
   ]
  },
  {
   "cell_type": "code",
   "execution_count": 112,
   "id": "3510669c-1705-412c-be48-b7d27906a903",
   "metadata": {},
   "outputs": [
    {
     "data": {
      "text/plain": [
       "0.4999999999999999"
      ]
     },
     "execution_count": 112,
     "metadata": {},
     "output_type": "execute_result"
    }
   ],
   "source": [
    "res"
   ]
  },
  {
   "cell_type": "code",
   "execution_count": 123,
   "id": "72956636-57ce-45d2-a913-373fa4ece877",
   "metadata": {},
   "outputs": [],
   "source": [
    "#7\n",
    "a= np.array([3,-3,3])\n",
    "b = np.array([3,5,2])"
   ]
  },
  {
   "cell_type": "code",
   "execution_count": 124,
   "id": "90653324-f4f6-4802-9ab3-8f63c0b4b5ce",
   "metadata": {},
   "outputs": [
    {
     "name": "stdout",
     "output_type": "stream",
     "text": [
      "Перпендикулярні\n"
     ]
    }
   ],
   "source": [
    "res = np.dot(a,b)\n",
    "answ =  \"Перпендикулярні\" if res == 0 else \"Неперпендикулярні\"\n",
    "print(answ)"
   ]
  },
  {
   "cell_type": "code",
   "execution_count": 119,
   "id": "9afb516f-3832-462a-bdf1-60468d2c8ef3",
   "metadata": {},
   "outputs": [
    {
     "name": "stdout",
     "output_type": "stream",
     "text": [
      "Not Collinear\n"
     ]
    }
   ],
   "source": [
    "\n",
    "#8\n",
    "a= np.array([3,-1,2])\n",
    "b = np.array([6,2,-4])\n",
    "cross = np.cross(a,b)\n",
    "if np.all(cross == 0):\n",
    "    print(\"Collinear\")\n",
    "else:\n",
    "    print(\"Not Collinear\")"
   ]
  },
  {
   "cell_type": "code",
   "execution_count": null,
   "id": "e940dea0-086e-4a33-aafd-7c1bafb1a028",
   "metadata": {},
   "outputs": [],
   "source": []
  },
  {
   "cell_type": "code",
   "execution_count": null,
   "id": "48df5b2e-4f7f-4403-a602-eb4e195ce8a3",
   "metadata": {},
   "outputs": [],
   "source": []
  }
 ],
 "metadata": {
  "kernelspec": {
   "display_name": "Python 3 (ipykernel)",
   "language": "python",
   "name": "python3"
  },
  "language_info": {
   "codemirror_mode": {
    "name": "ipython",
    "version": 3
   },
   "file_extension": ".py",
   "mimetype": "text/x-python",
   "name": "python",
   "nbconvert_exporter": "python",
   "pygments_lexer": "ipython3",
   "version": "3.11.7"
  }
 },
 "nbformat": 4,
 "nbformat_minor": 5
}
